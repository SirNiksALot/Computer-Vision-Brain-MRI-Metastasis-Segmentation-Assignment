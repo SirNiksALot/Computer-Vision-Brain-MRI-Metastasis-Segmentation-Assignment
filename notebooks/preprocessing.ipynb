{
 "cells": [
  {
   "cell_type": "code",
   "execution_count": null,
   "metadata": {
    "id": "dnTsqE6GrXzO"
   },
   "outputs": [],
   "source": [
    "import os\n",
    "import cv2\n",
    "import numpy as np\n",
    "import glob\n",
    "from sklearn.model_selection import train_test_split\n",
    "\n"
   ]
  },
  {
   "cell_type": "code",
   "execution_count": null,
   "metadata": {
    "id": "-J5SSyMmrx4c"
   },
   "outputs": [],
   "source": [
    "# Load images and masks\n",
    "image_dir = 'data/raw/images/'\n",
    "mask_dir = 'data/raw/masks/'\n",
    "images = glob.glob(image_dir + '*.png')\n",
    "masks = glob.glob(mask_dir + '*.png')\n",
    "\n",
    "# Ensure image-mask pair integrity\n",
    "image_mask_pairs = [(img, mask) for img, mask in zip(images, masks) if os.path.exists(mask)]\n",
    "\n",
    "# CLAHE Preprocessing\n",
    "def apply_clahe(image, clip_limit=2.0, tile_grid_size=(8, 8)):\n",
    "    img_gray = cv2\n"
   ]
  },
  {
   "cell_type": "code",
   "execution_count": null,
   "metadata": {
    "id": "o_2Z7y5IrzzN"
   },
   "outputs": [],
   "source": [
    "def apply_clahe(image, clip_limit=2.0, tile_grid_size=(8, 8)):\n",
    "    img_gray = cv2.cvtColor(image, cv2.COLOR_BGR2GRAY)\n",
    "    clahe = cv2.createCLAHE(clipLimit=clip_limit, tileGridSize=tile_grid_size)\n",
    "    return clahe.apply(img_gray)\n",
    "\n",
    "processed_images = [apply_clahe(cv2.imread(img)) for img, _ in image_mask_pairs]\n",
    "processed_masks = [cv2.imread(mask, cv2.IMREAD_GRAYSCALE) for _, mask in image_mask_pairs]"
   ]
  },
  {
   "cell_type": "code",
   "execution_count": null,
   "metadata": {
    "id": "A4tNfLzTr3Rh"
   },
   "outputs": [],
   "source": [
    "# Normalize the images and masks\n",
    "processed_images = np.array(processed_images) / 255.0\n",
    "processed_masks = np.array(processed_masks) / 255.0\n",
    "\n",
    "# Split into training and testing sets\n",
    "train_images, test_images, train_masks, test_masks = train_test_split(\n",
    "    processed_images, processed_masks, test_size=0.2, random_state=42)\n"
   ]
  },
  {
   "cell_type": "code",
   "execution_count": null,
   "metadata": {
    "id": "xBzpNetbr5vI"
   },
   "outputs": [],
   "source": [
    "# Save processed data\n",
    "np.save('data/processed/train_images.npy', train_images)\n",
    "np.save('data/processed/test_images.npy', test_images)\n",
    "np.save('data/processed/train_masks.npy', train_masks)\n",
    "np.save('data/processed/test_masks.npy', test_masks)"
   ]
  }
 ],
 "metadata": {
  "colab": {
   "provenance": []
  },
  "kernelspec": {
   "display_name": "Python 3 (ipykernel)",
   "language": "python",
   "name": "python3"
  },
  "language_info": {
   "codemirror_mode": {
    "name": "ipython",
    "version": 3
   },
   "file_extension": ".py",
   "mimetype": "text/x-python",
   "name": "python",
   "nbconvert_exporter": "python",
   "pygments_lexer": "ipython3",
   "version": "3.10.9"
  }
 },
 "nbformat": 4,
 "nbformat_minor": 4
}
